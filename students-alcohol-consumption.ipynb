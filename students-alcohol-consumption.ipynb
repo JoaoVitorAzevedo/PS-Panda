{
  "cells": [
    {
      "cell_type": "markdown",
      "metadata": {
        "id": "YV9LJiTalSSu"
      },
      "source": [
        "# Análise Exploratória: Consumo de Álcool e Desempenho de Estudantes\n",
        "\n",
        "Grupo:\n",
        "- João Vitor Azevedo\n",
        "- Luísa Tavares dos Santos\n",
        "\n",
        "\n",
        "## Introdução\n",
        "\n",
        "O sucesso (ou fracasso) de um estudante no ensino médio raramente depende apenas de quanto tempo ele passa estudando. Fatores sociais, familiares e hábitos pessoais criam um ecossistema complexo que influencia diretamente o seu desempenho. Este projeto utiliza o famoso dataset Student Alcohol Consumption, que detalha a vida de estudantes de ensino secundário em Portugal.\n",
        "\n",
        "O conjunto de dados nos fornece informações que vão desde o trabalho dos pais e a qualidade do relacionamento familiar até hábitos como o consumo de álcool e a frequência de saídas com amigos, cruzando tudo isso com as notas obtidas nas disciplinas de Matemática e Português.\n",
        "\n",
        "Nosso principal objetivo com esta Análise Exploratória de Dados (AED) é investigar essas conexões. Queremos usar os dados para responder a perguntas como: \"Qual o verdadeiro impacto do consumo de álcool nas notas?\" e \"Como o estilo de vida social de um aluno se relaciona com sua performance acadêmica?\". Ao final, buscamos apresentar um panorama claro dos fatores que mais contribuem para o sucesso e para o risco na vida escolar desses jovens.\n",
        "\n",
        "Para isso, vamos passar pelas etapas de preparação dos dados, análises univariada e bivariada, e investigar algumas hipóteses para descobrir padrões interessantes."
      ]
    },
    {
      "cell_type": "markdown",
      "metadata": {
        "id": "XWciWEhRlSS7"
      },
      "source": [
        "## 1. Carregando e Conhecendo os Dados\n",
        "\n",
        "Para começar, vamos configurar nosso ambiente de trabalho, carregar os dados e fazer uma primeira inspeção para entender a estrutura geral do dataset."
      ]
    },
    {
      "cell_type": "markdown",
      "metadata": {
        "id": "LBm0KpZGlSS9"
      },
      "source": [
        "### 1.1. Configurando o Ambiente"
      ]
    },
    {
      "cell_type": "code",
      "execution_count": null,
      "metadata": {
        "id": "eJmJ8aoWlSS-"
      },
      "outputs": [],
      "source": [
        "# Importação das bibliotecas padrão\n",
        "import pandas as pd\n",
        "import numpy as np\n",
        "import matplotlib.pyplot as plt\n",
        "import seaborn as sns\n",
        "import kagglehub\n",
        "\n",
        "# Configurações de visualização para os gráficos\n",
        "sns.set_style('whitegrid')\n",
        "plt.rcParams['figure.figsize'] = (12, 6)"
      ]
    },
    {
      "cell_type": "markdown",
      "metadata": {
        "id": "aPFqNGdRlSTC"
      },
      "source": [
        "### 1.2. Descrição e Carregamento dos Dados\n",
        "\n",
        "- **Nome do Dataset:** Student Alcohol Consumption\n",
        "- **Fonte/Link:** https://www.kaggle.com/datasets/uciml/student-alcohol-consumption/data\n",
        "- **Descrição:** Este dataset contém informações sobre estudantes de duas escolas secundárias em Portugal, coletadas através de relatórios escolares e questionários. Inclui notas, características demográficas, sociais e relacionadas ao consumo de álcool.\n",
        "\n",
        "O dataset vem dividido em dois arquivos: **student-mat.csv** (com dados de estudantes de Matemática) e **student-por.csv** (de Português).\n",
        "\n",
        "A existência de dois arquivos separados para Matemática e Português contém um desafio: muitos alunos aparecem em ambos. Analisá-los separadamente seria um erro, pois estaríamos contando o mesmo aluno duas vezes e teríamos uma visão incompleta de sua vida acadêmica. Portanto, a unificação dos datasets não é apenas uma conveniência, mas uma etapa essencial para garantir que nossa análise seja precisa"
      ]
    },
    {
      "cell_type": "code",
      "execution_count": null,
      "metadata": {
        "colab": {
          "base_uri": "https://localhost:8080/"
        },
        "id": "t_pStva6lSTE",
        "outputId": "118c72fd-dfc1-4563-ad95-043353cc8056"
      },
      "outputs": [],
      "source": [
        "# Carregamento dos dois datasets\n",
        "path = kagglehub.dataset_download(\"uciml/student-alcohol-consumption\")\n",
        "file_path_math = path + '/student-mat.csv'\n",
        "file_path_port = path + '/student-por.csv'\n",
        "try:\n",
        "    df_mat = pd.read_csv(file_path_math)\n",
        "    df_por = pd.read_csv(file_path_port)\n",
        "    print('Datasets de Matemática e Português carregados com sucesso!')\n",
        "except FileNotFoundError:\n",
        "    print(\"Erro: Verifique se os arquivos 'student-mat.csv' e 'student-por.csv' estão no diretório.\")"
      ]
    },
    {
      "cell_type": "markdown",
      "metadata": {
        "id": "s5P3UjuZWHJX"
      },
      "source": [
        "## Perguntas Principais\n",
        "- Qual a relação entre o consumo de álcool e o desempenho acadêmico?\n",
        "- Como o estilo de vida social e os hábitos (sair, faltar) se conectam com o desempenho?\n",
        "- Quais outros fatores demonstram forte influência sobre o sucesso acadêmico?"
      ]
    },
    {
      "cell_type": "markdown",
      "metadata": {
        "id": "D1O3dXi8lSTF"
      },
      "source": [
        "## 2. Preparação e Limpeza dos Dados\n",
        "\n",
        "Agora que os dados estão carregados, a próxima etapa é a preparação. Vamos primeiro unificar os dois datasets"
      ]
    },
    {
      "cell_type": "markdown",
      "metadata": {
        "id": "WaHoSCArlSTG"
      },
      "source": [
        "### 2.1. Unificação dos Datasets"
      ]
    },
    {
      "cell_type": "code",
      "execution_count": null,
      "metadata": {
        "colab": {
          "base_uri": "https://localhost:8080/"
        },
        "id": "Eqkvkgh-nLPs",
        "outputId": "6b2dfac0-df25-4a04-de45-b45a67b44e04"
      },
      "outputs": [],
      "source": [
        "# Primeiro, utilizaremos o comando info em cada dataset para verificar sobre ele antes de unifica-los\n",
        "print(f'informações sobre o dataset de matemática')\n",
        "df_mat.info()"
      ]
    },
    {
      "cell_type": "code",
      "execution_count": null,
      "metadata": {
        "colab": {
          "base_uri": "https://localhost:8080/"
        },
        "id": "1PtzoX78nRvp",
        "outputId": "2d606a93-3d17-4bf2-85ae-e63d7cb4e3fb"
      },
      "outputs": [],
      "source": [
        "print(f'informações sobre o dataset de português')\n",
        "df_por.info()"
      ]
    },
    {
      "cell_type": "markdown",
      "metadata": {
        "id": "MpN4g5_kBDTD"
      },
      "source": [
        "### Explicação sobre o que significam os atributos\n",
        "\n",
        "Para entender nossas análises, é importante conhecer as variáveis que temos em mãos. Elas se dividem em alguns grupos principais:\n",
        "\n",
        "Dados Demográficos:\n",
        "\n",
        "- school: Escola do estudante (GP - Gabriel Pereira ou MS - Mousinho da Silveira).\n",
        "- sex: Gênero ('F' - Feminino, 'M' - Masculino).\n",
        "- age: Idade (de 15 a 22 anos).\n",
        "- address: Tipo de endereço ('U' - Urbano, 'R' - Rural).\n",
        "- famsize: Tamanho da família ('LE3' - Menor ou igual a 3, 'GT3' - Maior que 3).\n",
        "- Pstatus: Status de coabitação dos pais ('T' - Moram juntos, 'A' - Separados).\n",
        "\n",
        "Dados Familiares e de Suporte:\n",
        "\n",
        "- Medu, Fedu: Nível de educação da mãe e do pai (0 a 4, onde 4 é ensino superior).\n",
        "- Mjob, Fjob: Trabalho da mãe e do pai.\n",
        "- guardian: Guardião legal do estudante.\n",
        "- famsup: Suporte educacional da família (sim/não).\n",
        "- schoolsup: Suporte educacional extra (reforço) (sim/não).\n",
        "- paid: Aulas particulares pagas na disciplina (sim/não).\n",
        "- famrel: Qualidade do relacionamento familiar (1 - muito ruim a 5 - excelente).\n",
        "\n",
        "Hábitos e Estilo de Vida:\n",
        "\n",
        "- studytime: Tempo de estudo semanal (1 a 4, representando faixas de horas).\n",
        "- traveltime: Tempo de viagem de casa para a escola (1 a 4).\n",
        "- goout: Frequência de saídas com amigos (1 - muito baixa a 5 - muito alta).\n",
        "- Dalc, Walc: Consumo de álcool durante a semana e no fim de semana (1 - muito baixo a 5 - muito alto).\n",
        "- health: Estado de saúde atual (1 - muito ruim a 5 - muito bom).\n",
        "- activities: Participa de atividades extracurriculares (sim/não).\n",
        "- internet: Possui acesso à internet em casa (sim/não).\n",
        "- romantic: Está em um relacionamento amoroso (sim/não).\n",
        "\n",
        "Dados Acadêmicos:\n",
        "\n",
        "- failures: Número de reprovações em classes anteriores.\n",
        "- absences: Número de faltas escolares.\n",
        "- G1, G2: Notas do primeiro e segundo período (0 a 20).\n",
        "- G3: Nota final (0 a 20) - nossa principal variável de resultado."
      ]
    },
    {
      "cell_type": "markdown",
      "metadata": {
        "id": "x6nAdcCvGgn_"
      },
      "source": [
        "### Unificação\n",
        "\n",
        "A gente percebeu que uma simples remoção de duplicatas (drop_duplicates) seria arbitrária e nos faria perder informações valiosas (por exemplo, manteríamos as notas de matemática e jogaríamos fora as de português para um mesmo aluno).\n",
        "\n",
        "Então fizemos por partes:\n",
        "\n",
        "- Identificação: Primeiro, identificamos todos os registros que pertenciam a alunos duplicados (aqueles que aparecem nos dois arquivos).\n",
        "- Separação: Dividimos nosso conjunto de dados em dois grupos: um com os alunos \"únicos\" (que só cursaram uma matéria) e outro com os alunos \"duplicados\".\n",
        "- Agregação: Para o grupo de duplicados, nós agregamos suas informações. Para as colunas numéricas que variam entre as disciplinas, como as notas (G1, G2, G3) e as faltas (absences), calculamos a média entre as duas matérias. Para informações que são fixas (como idade, sexo, trabalho dos pais), simplesmente mantivemos o primeiro registro.\n",
        "- União Final: Por fim, juntamos o grupo de alunos únicos com o nosso novo grupo de alunos agregados. O resultado é um dataframe final e coeso, sem duplicidade e que aproveita o máximo de informação de cada estudante.\n",
        "\n"
      ]
    },
    {
      "cell_type": "code",
      "execution_count": null,
      "metadata": {
        "colab": {
          "base_uri": "https://localhost:8080/"
        },
        "id": "drIma8i-cTm-",
        "outputId": "afe54c37-aee7-4a8a-c5d4-ad4339f0e3a7"
      },
      "outputs": [],
      "source": [
        "# Unindo os dois dataframes, como seguem a mesma estrutura de atributos, não é necessária manipulação antes de uní-los e remover as duplicatas\n",
        "df = pd.concat([df_mat, df_por], ignore_index=True)\n",
        "\n",
        "# As colunas que identificam um aluno de forma única (definido na coleta dos dados)\n",
        "colunas_identificadoras_aluno = [\"school\",\"sex\",\"age\",\"address\",\"famsize\",\"Pstatus\",\"Medu\",\"Fedu\",\"Mjob\",\"Fjob\",\"reason\",\"nursery\",\"internet\"]\n",
        "\n",
        "# Identificando alunos duplicados (estão tanto nas aulas de português como nas de matemática) com uma coluna booleana\n",
        "indices_duplicados = df.duplicated(subset=colunas_identificadoras_aluno, keep=False)\n",
        "\n",
        "# Vamos separar o dataframe em dois, o que tem alunos nas duas turmas e o que só tem alunos únicos(apenas em uma turma), para identificar dados que precisam de tratamento\n",
        "df_alunos_duplicados = df[indices_duplicados]\n",
        "df_alunos_unicos = df[~indices_duplicados]\n",
        "\n",
        "print(f'Número de registros no dataframe de Matemática: {len(df_mat)}')\n",
        "print(f'Número de registros no dataframe de Português: {len(df_por)}')\n",
        "print(f\"Número de registros no dataframe unificado: {len(df)}\")"
      ]
    },
    {
      "cell_type": "markdown",
      "metadata": {
        "id": "fj605QEfzSvZ"
      },
      "source": [
        "### 2.2 Preparação para unificação final"
      ]
    },
    {
      "cell_type": "markdown",
      "metadata": {
        "id": "ILOVDONn2U8U"
      },
      "source": [
        "Pudemos observar, através das etapas anteriores, que tanto no dataset de português como no de matemática, temos os fatores:\n",
        "\n",
        "\n",
        "Tipos de Dados Consistentes: Todas as colunas correspondentes possuem o mesmo tipo de dado (Dtype) em ambos os arquivos. Por exemplo, a coluna age é do tipo int64 (número inteiro) e a coluna school é do tipo object (texto) nos dois conjuntos. Isso previne erros de cálculo em etapas futuras.\n",
        "\n",
        "Estrutura Idêntica: Ambos os dataframes possuem exatamente as mesmas 33 colunas, com os mesmos nomes e na mesma ordem.\n",
        "\n",
        "Ou seja: datasets perfeitamente compatíveis. Poderemos então, pular uma etapa de limpeza detalhada **apenas  para a união** desses datasets, o que só é possível aqui devido a compatibilidade dos datasets nesse conjunto de dados. Em um outro projeto de análise de dados, seria comum encontrar inconsistências (tipos de dados diferentes, valores faltantes, etc.) que exigiriam um tratamento cuidadoso antes de qualquer tentativa de união ou agregação."
      ]
    },
    {
      "cell_type": "code",
      "execution_count": null,
      "metadata": {
        "colab": {
          "base_uri": "https://localhost:8080/",
          "height": 270
        },
        "id": "Uzp_LkzBlSTK",
        "outputId": "cac2e11b-a1bf-4fc1-aca1-0916033e1b90"
      },
      "outputs": [],
      "source": [
        "# Concatenar os dois dataframes\n",
        "df_completo = pd.concat([df_mat, df_por], ignore_index=True)\n",
        "\n",
        "# Definir colunas-chave e regras de agregação\n",
        "colunas_identificadoras_aluno = [\"school\",\"sex\",\"age\",\"address\",\"famsize\",\"Pstatus\",\"Medu\",\"Fedu\",\"Mjob\",\"Fjob\",\"reason\",\"nursery\",\"internet\"]\n",
        "\n",
        "regras_de_agregacao = {\n",
        "    # Para colunas numéricas de desempenho e hábitos, calculamos a média entre as duas matérias\n",
        "    'G1': 'mean', 'G2': 'mean', 'G3': 'mean',\n",
        "    'absences': 'mean', 'failures': 'mean',\n",
        "    'studytime': 'mean', 'traveltime': 'mean',\n",
        "    'goout': 'mean', 'health': 'mean', 'famrel': 'mean',\n",
        "    'Dalc': 'mean', 'Walc': 'mean', 'freetime': 'mean',\n",
        "\n",
        "    # Para colunas com informações do aluno (que não mudam), pegamos o primeiro registro\n",
        "    # Não estamos adicionando colunas identificadoras dos alunos pois são iguais\n",
        "    'guardian': 'first',\n",
        "    'schoolsup': 'first',\n",
        "    'famsup': 'first',\n",
        "    'paid': 'first',\n",
        "    'activities': 'first',\n",
        "    'higher': 'first',\n",
        "    'romantic': 'first'\n",
        "}\n",
        "\n",
        "# Agrupar e agregar em um único passo\n",
        "df_final = df_completo.groupby(colunas_identificadoras_aluno).agg(regras_de_agregacao).reset_index()\n",
        "\n",
        "print(f\"O número final de alunos únicos é: {len(df_final)}\")\n",
        "print(\"Primeiros 5 registros do dataframe final: \")\n",
        "df_final.head()"
      ]
    },
    {
      "cell_type": "code",
      "execution_count": null,
      "metadata": {
        "colab": {
          "base_uri": "https://localhost:8080/"
        },
        "id": "ttLMqEyfT8nZ",
        "outputId": "6ad7d6ea-f371-49e5-8ace-349e58fdaebc"
      },
      "outputs": [],
      "source": [
        "#Info do dataframe final\n",
        "df_final.info()"
      ]
    },
    {
      "cell_type": "markdown",
      "metadata": {
        "id": "l0bOHXNBlSTM"
      },
      "source": [
        "### 2.3. Criando Novas Variáveis (Engenharia de Atributos)\n",
        "\n",
        "Para ir além das variáveis originais e responder nossas perguntas de forma mais eficaz, decidimos criar novas colunas a partir dos dados existentes. Este processo, conhecido como engenharia de atributos, nos permite construir métricas mais poderosas e alinhadas aos nossos objetivos.\n",
        "\n",
        "- alcool_total: As colunas Dalc (consumo na semana) e Walc (consumo no fim de semana) são úteis, mas para ter uma visão geral do consumo de um aluno, criamos uma única métrica. A coluna alcool_total combina as duas, mas com um peso diferente: consideramos que a semana tem 5 dias e o fim de semana 2. Essa ponderação nos dá uma estimativa mais realista do consumo semanal total, simplificando as comparações.\n",
        "\n",
        "- passed: A nota final (G3) varia de 0 a 20. Para análises de alto nível, é mais fácil entender o resultado de forma binária: o aluno passou ou não? Por isso, criamos a coluna passed. Ela transforma a nota em uma categoria ('Sim' ou 'Não'), o que é perfeito para criar visualizações de proporção e para comparar o desempenho de forma clara entre diferentes grupos."
      ]
    },
    {
      "cell_type": "code",
      "execution_count": null,
      "metadata": {
        "colab": {
          "base_uri": "https://localhost:8080/",
          "height": 224
        },
        "id": "8maNxy3vlSTM",
        "outputId": "d2d20e87-8778-4fcd-d167-566b55587061"
      },
      "outputs": [],
      "source": [
        "# Criando a coluna de consumo total de álcool\n",
        "# A ponderação de 5 para dias de semana e 2 para fim de semana\n",
        "df_final['alcool_total'] = (5 * df_final['Dalc']) + (2 * df_final['Walc'])\n",
        "\n",
        "# Criando a coluna de aprovação (nota >= 10)\n",
        "df_final['passed'] = np.where(df_final['G3'] >= 10, 'Sim', 'Não')\n",
        "\n",
        "print(\"Novas colunas criadas com sucesso\")\n",
        "display(df_final[['Dalc', 'Walc', 'alcool_total', 'G3', 'passed']].head())"
      ]
    },
    {
      "cell_type": "markdown",
      "metadata": {
        "id": "lOJ9ZwQy-DMw"
      },
      "source": [
        "### 2.4 Pré-processamento de dados (Limpeza)"
      ]
    },
    {
      "cell_type": "markdown",
      "metadata": {
        "id": "nfdUK81FJfwl"
      },
      "source": [
        "Vamo começar a investigar a saúde dos nossos dados. Isso envolve procurar por possíveis ruídos (dados mal formatados ou \"sujos\") e outliers (valores extremos que podem distorcer as análises).\n",
        "\n",
        "Podemos achar que, se a função .isnull() não retorna nada, os dados estão limpos. No entanto, dados faltantes podem se esconder na forma de textos como '?', 'N/A' ou simplesmente espaços em branco. Para investigar isso, fizemos uma auditoria manual nas principais colunas categóricas usando a função .value_counts().\n",
        "\n"
      ]
    },
    {
      "cell_type": "code",
      "execution_count": null,
      "metadata": {
        "colab": {
          "base_uri": "https://localhost:8080/"
        },
        "id": "JaexBnGm-I1O",
        "outputId": "7eb4ba5e-21b1-4689-d505-c1124fcdfc28"
      },
      "outputs": [],
      "source": [
        "colunas_categoricas_auditoria = ['Mjob', 'Fjob', 'reason', 'guardian', 'schoolsup', 'famsup', 'paid', 'activities', 'romantic']\n",
        "\n",
        "print(\"Analisando valores nas colunas categóricas (identificando se há ruídos)\")\n",
        "\n",
        "# Este loop vai passar por cada coluna da lista e mostrar os valores que ela contém\n",
        "for coluna in colunas_categoricas_auditoria:\n",
        "    print(f\"\\nValores únicos na coluna '{coluna}':\")\n",
        "    print(df_final[coluna].value_counts())\n",
        "    print(\"-\" * 30)"
      ]
    },
    {
      "cell_type": "markdown",
      "metadata": {
        "id": "PnNjMrOK-osK"
      },
      "source": [
        "Felizmente, nosso dataset se mostrou muito limpo e bem estruturado. A auditoria confirmou que não havia ruídos ou valores não padronizados nas colunas, o que demonstra a alta qualidade da base de dados. Mesmo assim, realizar essa verificação foi um passo essencial para garantir a confiabilidade das nossas análises futuras.\n"
      ]
    },
    {
      "cell_type": "markdown",
      "metadata": {
        "id": "U8RM6sYwJzap"
      },
      "source": [
        "Agora, verificando os Outliers são valores que fogem muito do padrão do resto dos dados. Eles são importantes porque podem distorcer médias e outras medidas estatísticas. Usamos boxplots para visualizá-los."
      ]
    },
    {
      "cell_type": "code",
      "execution_count": null,
      "metadata": {
        "colab": {
          "base_uri": "https://localhost:8080/",
          "height": 1000
        },
        "id": "0hIZjQjE_oKV",
        "outputId": "ba386e0b-191a-4b1d-b644-be1d151cf8a2"
      },
      "outputs": [],
      "source": [
        "colunas_para_boxplot = ['absences', 'G3', 'freetime', 'health']\n",
        "\n",
        "print(\"INVESTIGAÇÃO DE OUTLIER \\n\")\n",
        "\n",
        "# Criamos um loop para gerar um boxplot para cada coluna da lista\n",
        "for coluna in colunas_para_boxplot:\n",
        "    plt.figure(figsize=(8, 4)) # Cria uma nova figura para cada gráfico\n",
        "    sns.boxplot(x=df_final[coluna])\n",
        "    plt.title(f'Boxplot da coluna: {coluna}', fontsize=14)\n",
        "    plt.show()"
      ]
    },
    {
      "cell_type": "markdown",
      "metadata": {
        "id": "vbXoH6CJKApi"
      },
      "source": [
        "Conclusão da Análise de Outliers: A investigação com boxplots revelou a presença de outliers significativos, principalmente na coluna absences (faltas). Enquanto a maioria dos alunos tem poucas faltas, alguns poucos possuem um número extremamente alto.\n",
        "\n",
        "Mas, seguindo as diretrizes do projeto, nossa decisão foi não remover esses outliers, pois eles representam um comportamento real e importante de um grupo de alunos. Ignorá-los seria ignorar uma parte da realidade escolar. Em vez disso, vamos gerenciá-los na próxima etapa através da discretização, agrupando-os em uma categoria específica, o que nos permite analisar seu impacto sem que eles distorçam as estatísticas gerais."
      ]
    },
    {
      "cell_type": "markdown",
      "metadata": {
        "id": "eON8dom0CQ9L"
      },
      "source": [
        "### 2.4 Discretização para melhorar análise futura"
      ]
    },
    {
      "cell_type": "markdown",
      "metadata": {
        "id": "wnXgpc59KJdx"
      },
      "source": [
        "Para simplificar a análise de variáveis numéricas contínuas e facilitar a visualização de tendências, aplicamos a técnica de discretização. Isso significa transformar números em faixas ou categorias nomeadas.\n",
        "\n",
        "\n",
        "- Para age: Agrupamos as idades em três faixas (15-16, 17-18, 19+), o que nos permite comparar o comportamento de adolescentes mais novos com os mais velhos de forma mais clara.\n",
        "\n",
        "- Para absences: Criamos as categorias Nenhuma Falta, Poucas Faltas, Faltas Moderadas e Muitas Faltas. Essa foi nossa estratégia para lidar com os outliers: eles agora pertencem ao grupo \"Muitas Faltas\", nos permitindo analisar seu comportamento sem distorcer as médias.\n",
        "\n",
        "- Para G3: Transformamos a nota final em quatro níveis de desempenho_final (Insuficiente, Regular, Bom, Excelente). Isso torna muito mais intuitivo cruzar o desempenho com outros fatores, como o consumo de álcool ou o tempo de estudo."
      ]
    },
    {
      "cell_type": "code",
      "execution_count": null,
      "metadata": {
        "colab": {
          "base_uri": "https://localhost:8080/",
          "height": 380
        },
        "id": "m-bNKok4CVQ1",
        "outputId": "2c490fc0-b3b3-400e-d799-a4227b1a23f1"
      },
      "outputs": [],
      "source": [
        "# Discretização de 'age' em faixas etárias\n",
        "faixas_idade = [14, 16, 18, 23]\n",
        "nomes_faixas_idade = ['15-16 anos', '17-18 anos', '19+ anos']\n",
        "df_final['faixa_etaria'] = pd.cut(x=df_final['age'], bins=faixas_idade, labels=nomes_faixas_idade, include_lowest=True)\n",
        "\n",
        "# Discretização de 'absences'(faltas)\n",
        "faixas_faltas = [-1, 0, 4, 9, 100]\n",
        "nomes_faixas_faltas = ['Nenhuma Falta', 'Poucas Faltas (1-4)', 'Faltas Moderadas (5-9)', 'Muitas Faltas (10+)']\n",
        "df_final['faixa_faltas'] = pd.cut(x=df_final['absences'], bins=faixas_faltas, labels=nomes_faixas_faltas)\n",
        "\n",
        "# Discretização de 'G3' (Nota Final) definindo faixas de desempenho.\n",
        "faixas_notas = [-1, 9, 13, 17, 20]\n",
        "nomes_faixas_notas = ['Insuficiente (0-9)', 'Regular (10-13)', 'Bom (14-17)', 'Excelente (18-20)']\n",
        "df_final['desempenho_final'] = pd.cut(x=df_final['G3'], bins=faixas_notas, labels=nomes_faixas_notas)\n",
        "\n",
        "print(\"Exemplos das novas colunas\")\n",
        "display(df_final[['age', 'faixa_etaria', 'absences', 'faixa_faltas', 'G3', 'desempenho_final']].sample(10))"
      ]
    },
    {
      "cell_type": "markdown",
      "metadata": {
        "id": "greZCNUDDnX1"
      },
      "source": [
        "### 2.5 Binarização de variaveis booleanas"
      ]
    },
    {
      "cell_type": "markdown",
      "metadata": {
        "id": "eQ8dxpfxKVbJ"
      },
      "source": [
        "Várias colunas do nosso dataset continham respostas de \"sim\" ou \"não\". Para podermos usar essa informação em análises numéricas (como em mapas de correlação), transformamos essas respostas em valores binários: 1 para 'yes' e 0 para 'no'.\n",
        "\n",
        "Essa transformação é poderosa porque nos permite, por exemplo, calcular a média de uma coluna como internet para descobrir o percentual exato de alunos com acesso à internet, ou incluir essas variáveis em análises estatísticas para descobrir novas relações."
      ]
    },
    {
      "cell_type": "code",
      "execution_count": null,
      "metadata": {
        "colab": {
          "base_uri": "https://localhost:8080/",
          "height": 414
        },
        "id": "gZILpkbkDtpt",
        "outputId": "30c9e8d1-1bac-482c-d5de-9046cba055fa"
      },
      "outputs": [],
      "source": [
        "colunas_binarias = ['schoolsup', 'famsup', 'paid', 'activities', 'nursery', 'higher', 'internet', 'romantic']\n",
        "\n",
        "print(\"TRANSFORMANDO COLUNAS BINÁRIAS \\n\")\n",
        "\n",
        "# Loop para aplicar a transformação a cada coluna\n",
        "for coluna in colunas_binarias:\n",
        "    df_final[coluna] = df_final[coluna].map({'yes': 1, 'no': 0})\n",
        "    print(f\"Percentual de 'sim' na coluna '{coluna}': {df_final[coluna].mean():.2%}\")\n",
        "\n",
        "print(\"\\nDados transformados com sucesso!\")\n",
        "display(df_final[colunas_binarias].head())"
      ]
    },
    {
      "cell_type": "markdown",
      "metadata": {
        "id": "1q81zGQMlSTN"
      },
      "source": [
        "## 3. Análise Exploratória dos Dados (AED)\n",
        "\n",
        "Com os dados devidamente limpos, tratados e enriquecidos com novas variáveis, podemos começar. Nesta seção, vamos explorar as principais variáveis, primeiro de forma isolada e depois cruzando informações para encontrar padrões, testar nossas hipóteses e responder às perguntas do nosso projeto."
      ]
    },
    {
      "cell_type": "markdown",
      "metadata": {
        "id": "-yh9TrRqlSTN"
      },
      "source": [
        "### 3.1. Análise Univariada\n",
        "\n",
        "Pra começar a entender o perfil dos alunos neste dataset, a gente decidiu olhar para as variáveis mais importantes de forma individual. Isso nos dá uma base sobre a distribuição de cada característica antes de começar a fazer cruzamentos."
      ]
    },
    {
      "cell_type": "code",
      "execution_count": null,
      "metadata": {
        "colab": {
          "base_uri": "https://localhost:8080/",
          "height": 1000
        },
        "id": "oaLJ9Le0PKOx",
        "outputId": "0240f816-3495-4ddc-c8a5-ecf7b2aa9fc5"
      },
      "outputs": [],
      "source": [
        "# Distribuição de frequência das nossas principais variáveis categóricas\n",
        "print(\"\\n--- Distribuição de Frequências das Variáveis Categóricas ---\")\n",
        "\n",
        "# Lista de colunas para analisar\n",
        "colunas_categoricas = ['faixa_etaria', 'faixa_faltas', 'desempenho_final', 'passed', 'studytime', 'Mjob', 'Fjob', 'freetime', 'goout', 'famrel', 'health']\n",
        "\n",
        "for coluna in colunas_categoricas:\n",
        "    plt.figure(figsize=(10, 5))\n",
        "\n",
        "    sns.countplot(\n",
        "        y=coluna,\n",
        "        data=df_final,\n",
        "        hue=coluna,\n",
        "        palette='viridis',\n",
        "        legend=False,\n",
        "        order=df_final[coluna].value_counts().index\n",
        "    )\n",
        "\n",
        "    plt.title(f'Distribuição de Frequência para: {coluna}', fontsize=15)\n",
        "    plt.xlabel('Contagem de Alunos')\n",
        "    plt.ylabel('')\n",
        "    plt.show()\n"
      ]
    },
    {
      "cell_type": "markdown",
      "metadata": {
        "id": "wu4OzYnPMtaw"
      },
      "source": [
        "- Análise dos Gráficos de Frequência:\n",
        "Ao analisar os gráficos, algumas características do nosso grupo de estudantes ficaram bem claras:\n",
        "\n",
        "Perfil Etário e Acadêmico: A grande maioria dos alunos se concentra na faixa dos 17-18 anos. No quesito desempenho, vimos que as categorias mais populosas são a \"Regular\"\n",
        "\n",
        "Hábitos Sociais: A frequência de saídas (goout) é bem distribuída, mas com uma leve concentração nos níveis 3 e 4 (de 1 a 5), indicando uma vida social ativa para a maioria.\n",
        "\n",
        "Assiduidade: Um ponto que chamou nossa atenção foi a quantidade de alunos na faixa \"Nenhuma Falta\", e \"Pouca falta\" que é o grupo mais numeroso."
      ]
    },
    {
      "cell_type": "code",
      "execution_count": null,
      "metadata": {
        "colab": {
          "base_uri": "https://localhost:8080/",
          "height": 1000
        },
        "id": "uxqfxHEMlSTO",
        "outputId": "4f302a15-5592-4737-e431-ff23ebfdd62e"
      },
      "outputs": [],
      "source": [
        "colunas_restantes = [\n",
        "    'school', 'address', 'famsize', 'Pstatus', 'reason', 'guardian',\n",
        "    'schoolsup', 'famsup', 'paid', 'activities', 'nursery', 'higher',\n",
        "    'internet', 'romantic', 'sex'\n",
        "]\n",
        "print(\"ANÁLISE DESCRITIVA DAS VARIÁVEIS CATEGÓRICAS DE APOIO\")\n",
        "\n",
        "# Loop para analisar cada uma das colunas restantes\n",
        "for coluna in colunas_restantes:\n",
        "    print(f\"\\n----- Análise da Coluna: '{coluna}' -----\")\n",
        "\n",
        "    contagem = df_final[coluna].value_counts()\n",
        "    percentual = df_final[coluna].value_counts(normalize=True) * 100\n",
        "\n",
        "    resumo_coluna = pd.DataFrame({\n",
        "        'Contagem': contagem,\n",
        "        'Percentual (%)': percentual.round(2)\n",
        "    })\n",
        "\n",
        "    display(resumo_coluna)\n"
      ]
    },
    {
      "cell_type": "markdown",
      "metadata": {
        "id": "3B4b_A46Nd7i"
      },
      "source": [
        "\n",
        "Além dos gráficos, a gente fez uma análise rápida das outras variáveis de apoio para entender o contexto geral dos alunos. Essa checagem rápida nos mostrou que:\n",
        "\n",
        "A maioria dos estudantes é da escola Gabriel Pereira (GP), mora em área urbana, tem acesso à internet em casa e afirmou não estar em um relacionamento amoroso.\n",
        "\n",
        "Um dado muito positivo é que a grande maioria (higher) aspira continuar os estudos e cursar o ensino superior.\n",
        "\n",
        "Em relação ao suporte, a maioria recebe apoio familiar (famsup), mas não possui aulas de reforço pagas (paid).\n",
        "\n",
        "Essas informações montam o pano de fundo demográfico e social da nossa amostra e serão úteis para contextualizar as análises seguintes."
      ]
    },
    {
      "cell_type": "markdown",
      "metadata": {
        "id": "lzGTWy38lSTP"
      },
      "source": [
        "### 3.2. Análise Bivariada\n",
        "\n",
        "Agora, vamos começar a cruzar variáveis para investigar possíveis relações e testar algumas de nossas hipóteses."
      ]
    },
    {
      "cell_type": "markdown",
      "metadata": {
        "id": "1E4UUtoJlSTQ"
      },
      "source": [
        "#### Pergunta 1: O consumo de álcool afeta o desempenho acadêmico (nota final)?"
      ]
    },
    {
      "cell_type": "code",
      "execution_count": null,
      "metadata": {
        "colab": {
          "base_uri": "https://localhost:8080/",
          "height": 647
        },
        "id": "jE2d2PSvlSTQ",
        "outputId": "a861f52d-8836-4d60-a351-23537ed267d0"
      },
      "outputs": [],
      "source": [
        "plt.figure(figsize=(12, 7))\n",
        "\n",
        "sns.barplot(\n",
        "    x='desempenho_final',\n",
        "    y='alcool_total',\n",
        "    data=df_final,\n",
        "    hue='desempenho_final',\n",
        "    palette='coolwarm',\n",
        "    legend=False,\n",
        "    order=['Insuficiente (0-9)', 'Regular (10-13)', 'Bom (14-17)', 'Excelente (18-20)']\n",
        ")\n",
        "\n",
        "plt.title('Consumo Médio de Álcool por Faixa de Desempenho', fontsize=16)\n",
        "plt.xlabel('Desempenho na Nota Final (G3)')\n",
        "plt.ylabel('Consumo Médio Total de Álcool')\n",
        "plt.show()\n"
      ]
    },
    {
      "cell_type": "markdown",
      "metadata": {
        "id": "Y1ZctZtOlSTR"
      },
      "source": [
        "O gráfico de barras é bem direto e confirma nossa principal hipótese. Existe uma relação negativa clara: quanto pior a faixa de desempenho do aluno, maior o seu consumo médio de álcool. A barra do grupo \"Insuficiente\" é visivelmente a mais alta, e o consumo vai diminuindo progressivamente conforme o desempenho melhora. Isso é uma forte evidência de que o álcool e o sucesso acadêmico caminham em direções opostas."
      ]
    },
    {
      "cell_type": "markdown",
      "metadata": {
        "id": "8fSrYArnlSTR"
      },
      "source": [
        "#### Pergunta 2: A vida social (sair com amigos) está relacionada ao consumo de álcool?"
      ]
    },
    {
      "cell_type": "code",
      "execution_count": null,
      "metadata": {
        "colab": {
          "base_uri": "https://localhost:8080/",
          "height": 735
        },
        "id": "FriQKqozlSTS",
        "outputId": "95676641-0f4f-46a3-9d26-7e13e1061fc0"
      },
      "outputs": [],
      "source": [
        "plt.figure(figsize=(12, 7))\n",
        "sns.violinplot(x='goout', y='alcool_total', data=df_final, palette='autumn', inner='box')\n",
        "plt.title('Consumo de Álcool vs. Frequência de Saídas com Amigos', fontsize=16)\n",
        "plt.xlabel('Frequência de Saídas (1: Muito Baixa - 5: Muito Alta)')\n",
        "plt.ylabel('Consumo Total de Álcool')\n",
        "plt.show()"
      ]
    },
    {
      "cell_type": "markdown",
      "metadata": {
        "id": "PctPKlI8lSTT"
      },
      "source": [
        "Análise: A relação aqui é bastante clara e positiva. O violinplot mostra que quanto maior a frequência com que os estudantes saem com os amigos (goout), maior tende a ser o consumo de álcool (alcool_total). A gente pode ver não só a mediana (o ponto branco) subindo, mas a distribuição toda se deslocando para cima. Isso é um forte indicativo de que o contexto social influencia diretamente os hábitos de consumo."
      ]
    },
    {
      "cell_type": "markdown",
      "metadata": {
        "id": "seSxnUXcYzfp"
      },
      "source": [
        "### Pergunta 3: Sair mais leva a faltar mais?"
      ]
    },
    {
      "cell_type": "code",
      "execution_count": null,
      "metadata": {
        "colab": {
          "base_uri": "https://localhost:8080/",
          "height": 732
        },
        "id": "FDXBVEDCY24N",
        "outputId": "db039628-04bf-46b4-8c4b-3f5daa4521bb"
      },
      "outputs": [],
      "source": [
        "# Gráfico 2: Relação entre Frequência de Saídas e Número de Faltas\n",
        "plt.figure(figsize=(12, 7))\n",
        "\n",
        "sns.boxplot(x='goout', y='absences', data=df_final, palette='coolwarm')\n",
        "plt.title('Número de Faltas vs. Frequência de Saídas com Amigos', fontsize=16)\n",
        "plt.xlabel('Frequência de Saídas (1: Muito Baixa - 5: Muito Alta)')\n",
        "plt.ylabel('Número de Faltas')\n",
        "plt.show()"
      ]
    },
    {
      "cell_type": "markdown",
      "metadata": {
        "id": "hz_ktHx7N5G-"
      },
      "source": [
        "Análise: Para testar essa conexão, usamos um boxplot. Ele nos ajuda a ver a distribuição das faltas para cada nível de \"saídas\". Podemos notar que a linha da mediana (o traço no meio da caixa) sobe um pouco à medida que a frequência de saídas aumenta. Isso indica que, em geral, quem sai mais tende a ter, sim, mais faltas. Também é interessante ver que os outliers (os pontos sozinhos) aparecem em todos os grupos, mostrando que alunos com um número extremo de faltas existem em qualquer perfil social, e alunos que disseram sair mais (5.0) também não são o grupo com maior mediana de consumo de alcool"
      ]
    },
    {
      "cell_type": "markdown",
      "metadata": {
        "id": "E9jlzhFsWXGs"
      },
      "source": [
        "### Pergunta 4: A assiduidade (presença nas aulas) tem impacto no desempenho do aluno?\n"
      ]
    },
    {
      "cell_type": "code",
      "execution_count": null,
      "metadata": {
        "colab": {
          "base_uri": "https://localhost:8080/",
          "height": 722
        },
        "id": "0knY-t3jWayn",
        "outputId": "a97da331-5592-40c9-eb81-6bc352124fe2"
      },
      "outputs": [],
      "source": [
        "tabela_faltas_desempenho = pd.crosstab(df_final['faixa_faltas'], df_final['desempenho_final'], normalize='index') * 100\n",
        "\n",
        "tabela_faltas_desempenho.plot(\n",
        "    kind='barh',\n",
        "    stacked=True,\n",
        "    figsize=(14, 8),\n",
        "    colormap='RdYlGn'\n",
        ")\n",
        "\n",
        "plt.title('Composição do Desempenho Acadêmico por Faixa de Faltas', fontsize=16)\n",
        "plt.xlabel('Percentual de Alunos (%)')\n",
        "plt.ylabel('Faixa de Faltas')\n",
        "plt.legend(title='Desempenho Final')\n",
        "plt.show()"
      ]
    },
    {
      "cell_type": "markdown",
      "metadata": {
        "id": "DfmXinT7OMvS"
      },
      "source": [
        "Analisando o gráfico, a gente consegue ver uma história clara sobre como a assiduidade está ligada ao nível de desempenho dos alunos. Cada barra horizontal representa 100% dos alunos dentro de uma faixa de faltas, e as cores nos mostram como o desempenho se distribui dentro desse grupo.\n",
        "\n",
        "O que mais chama a atenção é a mudança na proporção das cores, principalmente as verdes (que representam as melhores notas).\n",
        "\n",
        "No grupo \"Nenhuma Falta\", as barras verde-claro (\"Bom\") e verde-escuro (\"Excelente\") juntas somam uma porção significativa, quase 30% da barra. Isso indica que uma parte considerável dos alunos mais assíduos atinge os níveis mais altos de desempenho.\n",
        "\n",
        "No grupo \"Muitas Faltas (10+)\", o cenário muda drasticamente. As barras verdes se tornam muito pequenas, quase desaparecendo. Em contrapartida, a barra laranja (\"Regular\") se expande, ocupando a maior parte do espaço. A barra vermelha (\"Insuficiente\") também tem uma presença forte e ligeiramente maior que no grupo sem faltas.\n",
        "\n",
        "Conclusão da Análise: A nossa interpretação é que o principal impacto do aumento de faltas não é necessariamente \"reprovar mais\", mas sim uma queda na excelência acadêmica. Alunos que faltam muito perdem a chance de alcançar um desempenho \"Bom\" ou \"Excelente\", ficando, na melhor das hipóteses, com um desempenho \"Regular\". A assiduidade, portanto, se mostra um fator crucial para se alcançar os melhores resultados."
      ]
    },
    {
      "cell_type": "markdown",
      "metadata": {
        "id": "cWh4BGpZlSTT"
      },
      "source": [
        "### 3.3. Análise Multivariada\n",
        "\n",
        "Para ter uma visão panorâmica de todas as relações numéricas de uma só vez, a gente gerou um mapa de calor. Esta ferramenta visual é poderosa: as cores mais claras (amarelo) indicam uma correlação positiva forte (quando uma variável sobe, a outra também sobe), enquanto as cores mais escuras (roxo) indicam uma correlação fraca ou negativa."
      ]
    },
    {
      "cell_type": "code",
      "execution_count": null,
      "metadata": {
        "colab": {
          "base_uri": "https://localhost:8080/",
          "height": 1000
        },
        "id": "jp4ovVFqlSTT",
        "outputId": "d6779703-abd3-41ec-dd98-d92f02df6c83"
      },
      "outputs": [],
      "source": [
        "# Selecionando apenas colunas numéricas para a correlação\n",
        "numeric_df_final = df_final.select_dtypes(include=np.number)\n",
        "\n",
        "correlation_matrix = numeric_df_final.corr()\n",
        "\n",
        "# Plotando o heatmap\n",
        "plt.figure(figsize=(20, 16))\n",
        "sns.heatmap(correlation_matrix, annot=False, cmap='viridis')\n",
        "plt.title('Mapa de Calor de Correlação (Incluindo Variáveis Binárias)', fontsize=18)\n",
        "plt.show()\n",
        "\n",
        "print('--- Principais Correlações com a Nota Final (G3) ---')\n",
        "display(correlation_matrix['G3'].sort_values(ascending=False).to_frame())"
      ]
    },
    {
      "cell_type": "markdown",
      "metadata": {
        "id": "pG0NuMWnlSTU"
      },
      "source": [
        "Os melhores indicadores do desempenho final de um aluno são suas notas anteriores (G1 e G2). A correlação altíssima (acima de 0.83) mostra que o histórico acadêmico recente é o fator mais decisivo para o sucesso.\n",
        "\n",
        "Logo em seguida, encontramos um grupo de fatores ligados ao ambiente e à ambição do aluno:\n",
        "\n",
        "Desejo de ir para a faculdade (higher): Com uma correlação de 0.27, a aspiração de continuar os estudos se mostra um importante fator motivacional associado a notas melhores.\n",
        "\n",
        "Educação dos Pais (Medu e Fedu): Com correlações de 0.23 e 0.18, respectivamente, o nível educacional dos pais confirma sua influência positiva, provavelmente refletindo um ambiente familiar que valoriza mais os estudos.\n",
        "\n",
        "Tempo de Estudo (studytime): Como esperado, mais tempo de estudo também tem uma correlação positiva (0.19) com a nota final.\n",
        "\n",
        "- Os Fatores de Maior Impacto Negativo (O que atrapalha o aluno)\n",
        "\n",
        "Do lado negativo, o fator que mais pesa contra o aluno é, de longe, o número de reprovações anteriores (failures), com uma forte correlação negativa de -0.40. Isso sugere que dificuldades passadas são um grande obstáculo para o sucesso futuro.\n",
        "\n",
        "Depois, confirmamos numericamente a história que nossa análise vinha contando sobre o estilo de vida:\n",
        "\n",
        "Consumo de Álcool (alcool_total, Walc, Dalc): Todas as métricas de álcool apresentam uma correlação negativa consistente (em torno de -0.14 a -0.16), validando a hipótese de que o consumo de álcool está associado a notas piores.\n",
        "\n",
        "Vida Social (goout): A frequência de saídas também tem um impacto negativo (-0.10), reforçando a ideia de que o excesso de vida social pode competir com as responsabilidades acadêmicas.\n",
        "\n",
        "- A DescobertA das Faltas (absences)\n",
        "Um ponto que chamou muito a nossa atenção foi a correlação quase nula da coluna absences (-0.06). Isso parece contradizer nossa teoria anterior, que deduzia um impacto das faltas no desempenho.\n",
        "\n",
        "O que isso nos diz? Que a relação entre faltas e notas não é uma linha reta simples (ou seja, não é uma correlação linear forte). O impacto negativo das faltas não acontece de forma gradual; ele se torna realmente drástico apenas nos extremos (no grupo de \"Muitas Faltas\"). Esse é um padrão complexo que a nossa análise com o gráfico de barras conseguiu capturar muito melhor do que um simples número de correlação. Isso mostra a importância de usar visualizações para entender as nuances dos dados, em vez de confiar apenas em uma única métrica estatística."
      ]
    },
    {
      "cell_type": "markdown",
      "metadata": {
        "id": "S_FHW0RzUwq_"
      },
      "source": [
        "### Visualização Focada\n",
        "O heatmap completo é ótimo para uma visão geral. Como o foco principal é o desempenho (G3), decidimos adicionar uma visualização complementar mostrando apenas as correlações com essa variável, de forma ordenada. Isso destaca imediatamente os fatores mais importantes."
      ]
    },
    {
      "cell_type": "code",
      "execution_count": null,
      "metadata": {
        "colab": {
          "base_uri": "https://localhost:8080/",
          "height": 1000
        },
        "id": "dnurQ7GHUawQ",
        "outputId": "963c4a82-4bca-466e-cd93-fb8ad2f6e553"
      },
      "outputs": [],
      "source": [
        "# Mostra as correlações com G3 em um gráfico de barras\n",
        "plt.figure(figsize=(10, 12))\n",
        "correlation_matrix['G3'].sort_values(ascending=False).drop('G3').plot(kind='barh')\n",
        "plt.title('Correlação das Variáveis com a Nota Final (G3)')\n",
        "plt.show()"
      ]
    },
    {
      "cell_type": "code",
      "execution_count": null,
      "metadata": {},
      "outputs": [],
      "source": [
        "# Importar as bibliotecas necessárias\n",
        "import seaborn as sns\n",
        "import matplotlib.pyplot as plt\n",
        "\n",
        "# Criar o gráfico facetado usando catplot\n",
        "g = sns.catplot(\n",
        "    data=df_final,\n",
        "    x='desempenho_final',   # O que queremos comparar no eixo X\n",
        "    y='goout',              # O que queremos medir no eixo Y\n",
        "    col='faixa_faltas',     # A variável que vai criar as colunas (facetas)\n",
        "    kind='bar',             # Tipo de gráfico\n",
        "    palette='viridis',        # Paleta de cores\n",
        "    height=5,               # Altura de cada subplot\n",
        "    aspect=0.8,             # Proporção entre largura e altura\n",
        "    order=['Insuficiente (0-9)', 'Regular (10-13)', 'Bom (14-17)', 'Excelente (18-20)'] # Ordem das barras no eixo X\n",
        ")\n",
        "\n",
        "# Ajustes e títulos para melhor visualização\n",
        "g.fig.suptitle('O Efeito em Cadeia: Vida Social, Faltas e Desempenho Final', y=1.03, fontsize=16)\n",
        "g.set_axis_labels('Desempenho Final', 'Frequência Média de Saídas')\n",
        "g.set_titles(\"Faltas: {col_name}\")\n",
        "g.set_xticklabels(rotation=45, ha='right')\n",
        "plt.tight_layout(rect=[0, 0, 1, 0.97])\n",
        "\n",
        "# Mostrar o gráfico\n",
        "plt.show()"
      ]
    },
    {
      "cell_type": "markdown",
      "metadata": {
        "id": "QEKItYColSTU"
      },
      "source": [
        "## 4. Conclusões da Análise\n",
        "\n",
        "Após um processo iterativo de preparação, engenharia de features, e análise exploratória, chegamos a uma compreensão profunda dos fatores que cercam o consumo de álcool e o desempenho acadêmico dos estudantes na amostra. A decisão de unificar os datasets de forma inteligente e a criação de novas variáveis, como as faixas de desempenho (desempenho_final) e de faltas (faixa_faltas), foram cruciais para revelar padrões complexos que não eram óbvios nos dados brutos."
      ]
    },
    {
      "cell_type": "markdown",
      "metadata": {
        "id": "pryUkHx5lSTV"
      },
      "source": [
        "### 4.1. Respondendo às Perguntas Principais\n",
        "\n",
        "Com base nas visualizações e análises, podemos agora responder diretamente às nossas três perguntas de pesquisa  centrais.\n",
        "\n",
        "1. Qual a relação entre o consumo de álcool e o desempenho acadêmico?\n",
        "\n",
        "Conclusão: Existe uma relação negativa clara e consistente. Nossa análise confirmou a hipótese de que um maior consumo de álcool está associado a um pior desempenho acadêmico.\n",
        "\n",
        "Evidência: O gráfico de barras comparando o consumo_total_alcool pela nossa variável desempenho_final mostrou que a média de consumo do grupo \"Insuficiente\" foi significativamente maior do que a dos grupos \"Bom\" e \"Excelente\".\n",
        "\n",
        "2. Como o estilo de vida social e os hábitos (sair, faltar) se conectam com o desempenho?\n",
        "\n",
        "Conclusão: Identificamos uma \"cadeia de comportamentos de risco\" com forte impacto negativo. Um estilo de vida mais ativo socialmente (goout) está ligado a maiores níveis de consumo de álcool e a um maior número de faltas, e este último, por sua vez, está diretamente associado a um pior desempenho final.\n",
        "\n",
        "Evidência: Nossa análise em cadeia conectou os pontos: os gráficos mostraram que mais saídas levam a mais álcool e mais faltas; e a análise final com o gráfico de barras empilhadas provou que mais faltas levam a uma proporção drasticamente maior de alunos com desempenho \"Insuficiente\".\n",
        "\n",
        "3. Quais outros fatores demonstram forte influência sobre o sucesso acadêmico?\n",
        "\n",
        "Conclusão: Além do álcool e das faltas, dois grandes grupos de fatores se destacaram: o histórico acadêmico do aluno e o ambiente familiar e de suporte.\n",
        "\n",
        "Evidência (Histórico): O mapa de correlação e a lista ordenada mostraram que as notas anteriores (G1, G2) e, principalmente, o número de reprovações passadas (failures) são os preditores mais fortes da nota final.\n",
        "\n",
        "Evidência (Ambiente): A análise mostrou que um nível educacional mais alto dos pais (Medu, Fedu) e o desejo do próprio aluno de cursar o ensino superior (higher) também demonstraram uma correlação positiva importante com o sucesso.\n",
        "\n"
      ]
    },
    {
      "cell_type": "markdown",
      "metadata": {
        "id": "zOPQnjt8lSTV"
      },
      "source": [
        "### 4.2. Resumo das Descobertas e Conclusões Finais\n",
        "\n",
        "A \"Cadeia de Risco\" é o principal insight: A descoberta mais relevante não foi um fator isolado, mas a conexão entre eles. A vida social ativa (goout), quando não equilibrada, parece ser o gatilho para um aumento no consumo de álcool e na ausência escolar, formando um caminho que leva a dificuldades acadêmicas.\n",
        "\n",
        "O Paradoxo das Faltas: Uma descoberta inesperada foi que a simples taxa de \"aprovação\" parecia aumentar com as faltas, um resultado que contraria o senso comum. No entanto, ao aprofundar a análise com nossa variável desempenho_final, resolvemos o paradoxo: um alto número de faltas praticamente elimina a chance de um aluno alcançar um desempenho \"Bom\" ou \"Excelente\", mesmo que alguns consigam uma aprovação com nota mínima.\n",
        "\n",
        "Fatores de Proteção: Em contrapartida, um ambiente familiar com maior capital educacional e a própria ambição do aluno em continuar os estudos (higher) funcionam como importantes fatores de proteção, associados a melhores resultados."
      ]
    },
    {
      "cell_type": "code",
      "execution_count": null,
      "metadata": {
        "id": "xfxpndlDPxTx"
      },
      "outputs": [],
      "source": []
    }
  ],
  "metadata": {
    "colab": {
      "provenance": [],
      "toc_visible": true
    },
    "kernelspec": {
      "display_name": "Python 3",
      "language": "python",
      "name": "python3"
    },
    "language_info": {
      "codemirror_mode": {
        "name": "ipython",
        "version": 3
      },
      "file_extension": ".py",
      "mimetype": "text/x-python",
      "name": "python",
      "nbconvert_exporter": "python",
      "pygments_lexer": "ipython3",
      "version": "3.13.5"
    }
  },
  "nbformat": 4,
  "nbformat_minor": 0
}
